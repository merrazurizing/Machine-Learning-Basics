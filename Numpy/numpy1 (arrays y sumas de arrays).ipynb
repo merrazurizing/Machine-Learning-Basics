{
 "cells": [
  {
   "cell_type": "code",
   "execution_count": 1,
   "metadata": {},
   "outputs": [
    {
     "name": "stdout",
     "output_type": "stream",
     "text": [
      "[[2 3 6]\n",
      " [2 3 6]]\n"
     ]
    }
   ],
   "source": [
    "import numpy as np\n",
    "\n",
    "var1 = np.array([(2,3,6), (2,3,6)])\n",
    "print(var1)"
   ]
  },
  {
   "cell_type": "code",
   "execution_count": 2,
   "metadata": {},
   "outputs": [
    {
     "name": "stdout",
     "output_type": "stream",
     "text": [
      "[[ 4  6 12]\n",
      " [ 4  6 12]]\n"
     ]
    }
   ],
   "source": [
    "import numpy as np\n",
    "var1 = np.array([(2,3,6), (2,3,6)])\n",
    "var2 = np.array([(2,3,6), (2,3,6)])\n",
    "print(var1+var2)"
   ]
  }
 ],
 "metadata": {
  "interpreter": {
   "hash": "d51a215cc65096706a43590ea460e9c208ca71999476c8bfac69a72aadeda6ee"
  },
  "kernelspec": {
   "display_name": "Python 3.9.7 ('base')",
   "language": "python",
   "name": "python3"
  },
  "language_info": {
   "codemirror_mode": {
    "name": "ipython",
    "version": 3
   },
   "file_extension": ".py",
   "mimetype": "text/x-python",
   "name": "python",
   "nbconvert_exporter": "python",
   "pygments_lexer": "ipython3",
   "version": "3.9.7"
  },
  "orig_nbformat": 4
 },
 "nbformat": 4,
 "nbformat_minor": 2
}
