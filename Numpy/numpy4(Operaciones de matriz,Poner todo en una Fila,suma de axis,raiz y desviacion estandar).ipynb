{
 "cells": [
  {
   "cell_type": "code",
   "execution_count": 1,
   "metadata": {},
   "outputs": [
    {
     "name": "stdout",
     "output_type": "stream",
     "text": [
      "[[ 4  8 12]\n",
      " [ 2  6 10]]\n",
      "[[0 0 0]\n",
      " [0 0 0]]\n",
      "[[ 4 16 36]\n",
      " [ 1  9 25]]\n",
      "[[1. 1. 1.]\n",
      " [1. 1. 1.]]\n"
     ]
    }
   ],
   "source": [
    "import numpy as np\n",
    "\n",
    "var1 = np.array([(2,4,6) , (1,3,5)])\n",
    "var2 = np.array([(2,4,6) , (1,3,5)])\n",
    "\n",
    "# Operaciones de matriz\n",
    "print(var1 + var2)\n",
    "print(var1 - var2)\n",
    "print(var1 * var2)\n",
    "print(var1 / var2)\n",
    "\n",
    "#\n",
    "\n"
   ]
  },
  {
   "cell_type": "code",
   "execution_count": 2,
   "metadata": {},
   "outputs": [
    {
     "name": "stdout",
     "output_type": "stream",
     "text": [
      "[2 4 6 1 3 5]\n"
     ]
    }
   ],
   "source": [
    "var1 = np.array([(2,4,6) , (1,3,5)])\n",
    "# Poner todo en una columna\n",
    "print(var1.ravel())"
   ]
  },
  {
   "cell_type": "code",
   "execution_count": 3,
   "metadata": {},
   "outputs": [
    {
     "name": "stdout",
     "output_type": "stream",
     "text": [
      "[ 3  7 11]\n",
      "[12  9]\n"
     ]
    }
   ],
   "source": [
    "# suma de axes , sumar todos los X , sumar todos los Y\n",
    "var1 = np.array([(2,4,6) , (1,3,5)])\n",
    "\n",
    "#suma de columnas Columns\n",
    "print(var1.sum(axis=0))\n",
    "#suma de filas  Rows\n",
    "print(var1.sum(axis=1))"
   ]
  },
  {
   "cell_type": "code",
   "execution_count": 4,
   "metadata": {},
   "outputs": [
    {
     "name": "stdout",
     "output_type": "stream",
     "text": [
      "[[1.41421356 2.         2.44948974]\n",
      " [1.         1.73205081 2.23606798]]\n"
     ]
    }
   ],
   "source": [
    "# raiz de todos los valores\n",
    "print(np.sqrt(var1))"
   ]
  },
  {
   "cell_type": "code",
   "execution_count": 5,
   "metadata": {},
   "outputs": [
    {
     "name": "stdout",
     "output_type": "stream",
     "text": [
      "1.707825127659933\n"
     ]
    }
   ],
   "source": [
    "# Desviacion estandar\n",
    "print(np.std(var1))"
   ]
  }
 ],
 "metadata": {
  "interpreter": {
   "hash": "d51a215cc65096706a43590ea460e9c208ca71999476c8bfac69a72aadeda6ee"
  },
  "kernelspec": {
   "display_name": "Python 3.9.7 ('base')",
   "language": "python",
   "name": "python3"
  },
  "language_info": {
   "codemirror_mode": {
    "name": "ipython",
    "version": 3
   },
   "file_extension": ".py",
   "mimetype": "text/x-python",
   "name": "python",
   "nbconvert_exporter": "python",
   "pygments_lexer": "ipython3",
   "version": "3.9.7"
  },
  "orig_nbformat": 4
 },
 "nbformat": 4,
 "nbformat_minor": 2
}
