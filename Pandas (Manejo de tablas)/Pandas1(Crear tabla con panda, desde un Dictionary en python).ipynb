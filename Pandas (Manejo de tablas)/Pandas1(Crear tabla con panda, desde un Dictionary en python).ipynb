{
 "cells": [
  {
   "cell_type": "code",
   "execution_count": 3,
   "metadata": {},
   "outputs": [
    {
     "name": "stdout",
     "output_type": "stream",
     "text": [
      "{'number': [1, 2, 3, 4, 5], 'name': ['abby', 'john', 'lina', 'marc', 'bob'], 'salary x Hour': [15, 25, 32, 27, 40]}\n",
      "[1, 2, 3, 4, 5]\n"
     ]
    }
   ],
   "source": [
    "import pandas as pd\n",
    "\n",
    "# Diccionario de python\n",
    "Employee = {'number' : [1,2,3,4,5] , 'name': [\"abby\",\"john\",\"lina\",\"marc\",\"bob\"] , 'salary x Hour' : [15,25,32,27,40]}\n",
    "print(Employee)\n",
    "print(Employee[\"number\"])"
   ]
  },
  {
   "cell_type": "code",
   "execution_count": 4,
   "metadata": {},
   "outputs": [
    {
     "name": "stdout",
     "output_type": "stream",
     "text": [
      "   number  name  salary x Hour\n",
      "0       1  abby             15\n",
      "1       2  john             25\n",
      "2       3  lina             32\n",
      "3       4  marc             27\n",
      "4       5   bob             40\n"
     ]
    }
   ],
   "source": [
    "# Usamos panda para generar una tabla (dataframe)\n",
    "table1= pd.DataFrame(Employee)\n",
    "print(table1)"
   ]
  }
 ],
 "metadata": {
  "interpreter": {
   "hash": "d51a215cc65096706a43590ea460e9c208ca71999476c8bfac69a72aadeda6ee"
  },
  "kernelspec": {
   "display_name": "Python 3.9.7 ('base')",
   "language": "python",
   "name": "python3"
  },
  "language_info": {
   "codemirror_mode": {
    "name": "ipython",
    "version": 3
   },
   "file_extension": ".py",
   "mimetype": "text/x-python",
   "name": "python",
   "nbconvert_exporter": "python",
   "pygments_lexer": "ipython3",
   "version": "3.9.7"
  },
  "orig_nbformat": 4
 },
 "nbformat": 4,
 "nbformat_minor": 2
}
