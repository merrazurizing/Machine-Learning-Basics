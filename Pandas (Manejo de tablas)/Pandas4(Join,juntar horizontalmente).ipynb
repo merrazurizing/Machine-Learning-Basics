{
 "cells": [
  {
   "cell_type": "code",
   "execution_count": 2,
   "metadata": {},
   "outputs": [],
   "source": [
    "import pandas as pd\n",
    "\n",
    "food1={'number' : [1,2,3,4,5] , 'name' : [\"Corn\",\"banana\",\"chips\",\"popcorn\",\"pizza\"] , 'price': [8,3,4,8,6]}\n",
    "food2={'color' : [\"red\",\"yellow\",\"orange\",\"white\",\"blue\"] , 'weight' : [100,200,150,175,225] , 'quantity' : [1,2,1,3,4]}\n",
    "\n",
    "table1= pd.DataFrame(food1)\n",
    "table2= pd.DataFrame(food2)\n",
    "\n"
   ]
  },
  {
   "cell_type": "code",
   "execution_count": 3,
   "metadata": {},
   "outputs": [
    {
     "name": "stdout",
     "output_type": "stream",
     "text": [
      "   number     name  price   color  weight  quantity\n",
      "0       1     Corn      8     red     100         1\n",
      "1       2   banana      3  yellow     200         2\n",
      "2       3    chips      4  orange     150         1\n",
      "3       4  popcorn      8   white     175         3\n",
      "4       5    pizza      6    blue     225         4\n"
     ]
    }
   ],
   "source": [
    "#Juntar tablas horizontalmente \n",
    "fusion = table1.join(table2)\n",
    "print(fusion)"
   ]
  }
 ],
 "metadata": {
  "interpreter": {
   "hash": "d51a215cc65096706a43590ea460e9c208ca71999476c8bfac69a72aadeda6ee"
  },
  "kernelspec": {
   "display_name": "Python 3.9.7 ('base')",
   "language": "python",
   "name": "python3"
  },
  "language_info": {
   "codemirror_mode": {
    "name": "ipython",
    "version": 3
   },
   "file_extension": ".py",
   "mimetype": "text/x-python",
   "name": "python",
   "nbconvert_exporter": "python",
   "pygments_lexer": "ipython3",
   "version": "3.9.7"
  },
  "orig_nbformat": 4
 },
 "nbformat": 4,
 "nbformat_minor": 2
}
