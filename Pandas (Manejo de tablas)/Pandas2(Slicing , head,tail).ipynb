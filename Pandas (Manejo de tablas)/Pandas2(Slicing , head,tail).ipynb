{
 "cells": [
  {
   "cell_type": "code",
   "execution_count": 4,
   "metadata": {},
   "outputs": [],
   "source": [
    "import pandas as pd\n",
    "\n",
    "# Slicing : sacar partes de la tabla\n",
    "\n",
    "Employee = {'number' : [1,2,3,4,5] , 'name': [\"abby\",\"john\",\"lina\",\"marc\",\"bob\"] , 'salary x Hour' : [15,25,32,27,40]}\n",
    "table1= pd.DataFrame(Employee)\n"
   ]
  },
  {
   "cell_type": "code",
   "execution_count": 5,
   "metadata": {},
   "outputs": [
    {
     "name": "stdout",
     "output_type": "stream",
     "text": [
      "   number  name  salary x Hour\n",
      "0       1  abby             15\n",
      "1       2  john             25\n",
      "2       3  lina             32\n"
     ]
    }
   ],
   "source": [
    "# Las 3 primeras filas de la tabla\n",
    "print(table1.head(3))\n"
   ]
  },
  {
   "cell_type": "code",
   "execution_count": 6,
   "metadata": {},
   "outputs": [
    {
     "name": "stdout",
     "output_type": "stream",
     "text": [
      "   number  name  salary x Hour\n",
      "2       3  lina             32\n",
      "3       4  marc             27\n",
      "4       5   bob             40\n"
     ]
    }
   ],
   "source": [
    "\n",
    "# Kas 3 ultimas filas de la tabla\n",
    "print(table1.tail(3))"
   ]
  }
 ],
 "metadata": {
  "interpreter": {
   "hash": "d51a215cc65096706a43590ea460e9c208ca71999476c8bfac69a72aadeda6ee"
  },
  "kernelspec": {
   "display_name": "Python 3.9.7 ('base')",
   "language": "python",
   "name": "python3"
  },
  "language_info": {
   "codemirror_mode": {
    "name": "ipython",
    "version": 3
   },
   "file_extension": ".py",
   "mimetype": "text/x-python",
   "name": "python",
   "nbconvert_exporter": "python",
   "pygments_lexer": "ipython3",
   "version": "3.9.7"
  },
  "orig_nbformat": 4
 },
 "nbformat": 4,
 "nbformat_minor": 2
}
