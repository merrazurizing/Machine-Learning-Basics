{
 "cells": [
  {
   "cell_type": "code",
   "execution_count": 1,
   "metadata": {},
   "outputs": [
    {
     "name": "stdout",
     "output_type": "stream",
     "text": [
      "[10.         11.02564103 12.05128205 13.07692308 14.1025641  15.12820513\n",
      " 16.15384615 17.17948718 18.20512821 19.23076923 20.25641026 21.28205128\n",
      " 22.30769231 23.33333333 24.35897436 25.38461538 26.41025641 27.43589744\n",
      " 28.46153846 29.48717949 30.51282051 31.53846154 32.56410256 33.58974359\n",
      " 34.61538462 35.64102564 36.66666667 37.69230769 38.71794872 39.74358974\n",
      " 40.76923077 41.79487179 42.82051282 43.84615385 44.87179487 45.8974359\n",
      " 46.92307692 47.94871795 48.97435897 50.        ]\n"
     ]
    }
   ],
   "source": [
    "import numpy as np\n",
    "\n",
    "# crear un area con numeros autogenerados , con un rango y cuantos numeros quiero (con la misma distancia)\n",
    "var1 = np.linspace(10,50,40)\n",
    "print(var1)"
   ]
  },
  {
   "cell_type": "code",
   "execution_count": 2,
   "metadata": {},
   "outputs": [
    {
     "name": "stdout",
     "output_type": "stream",
     "text": [
      "[[2 4 6]\n",
      " [1 3 5]]\n",
      "Operaciones: \n",
      "4\n",
      "[4 3]\n",
      "-------------: \n",
      "[[2 4 6]\n",
      " [1 3 5]\n",
      " [2 4 6]\n",
      " [1 3 5]\n",
      " [2 4 6]\n",
      " [1 3 5]]\n",
      "Operaciones: \n",
      "[4 3 4 3 4 3]\n",
      "[3 4 3 4 3]\n",
      "[[3 5]\n",
      " [4 6]\n",
      " [3 5]\n",
      " [4 6]\n",
      " [3 5]]\n"
     ]
    }
   ],
   "source": [
    "#Funcion para sacar pedasos\n",
    "var1 = np.array([(2,4,6) , (1,3,5)])\n",
    "# de linea 0 , quiero elemento numero 2 (osea 1)\n",
    "print(var1)\n",
    "print(\"Operaciones: \")\n",
    "print(var1[0,1])\n",
    "\n",
    "#de linea 0 hasta el final , muestra elemento 2\n",
    "print(var1[0:,1])\n",
    "print(\"-------------: \")\n",
    "var1 = np.array([(2,4,6) , (1,3,5) , (2,4,6) , (1,3,5) , (2,4,6) , (1,3,5)])\n",
    "print(var1)\n",
    "print(\"Operaciones: \")\n",
    "print(var1[0:,1])\n",
    "print(var1[1:,1])\n",
    "\n",
    "print(var1[1:,1:])\n"
   ]
  },
  {
   "cell_type": "code",
   "execution_count": 3,
   "metadata": {},
   "outputs": [
    {
     "name": "stdout",
     "output_type": "stream",
     "text": [
      "6\n",
      "1\n",
      "21\n"
     ]
    }
   ],
   "source": [
    "var1 = np.array([(2,4,6) , (1,3,5)])\n",
    "# Encontrar el maximo y minimo\n",
    "print(var1.max())\n",
    "print(var1.min())\n",
    "# la suma de todo lo de adentro\n",
    "print(var1.sum())"
   ]
  }
 ],
 "metadata": {
  "interpreter": {
   "hash": "d51a215cc65096706a43590ea460e9c208ca71999476c8bfac69a72aadeda6ee"
  },
  "kernelspec": {
   "display_name": "Python 3.9.7 ('base')",
   "language": "python",
   "name": "python3"
  },
  "language_info": {
   "codemirror_mode": {
    "name": "ipython",
    "version": 3
   },
   "file_extension": ".py",
   "mimetype": "text/x-python",
   "name": "python",
   "nbconvert_exporter": "python",
   "pygments_lexer": "ipython3",
   "version": "3.9.7"
  },
  "orig_nbformat": 4
 },
 "nbformat": 4,
 "nbformat_minor": 2
}
