{
 "cells": [
  {
   "cell_type": "code",
   "execution_count": 1,
   "metadata": {},
   "outputs": [
    {
     "name": "stdout",
     "output_type": "stream",
     "text": [
      "[[  7.3890561   54.59815003 403.42879349]\n",
      " [  2.71828183  20.08553692 148.4131591 ]]\n",
      "[[0.69314718 1.38629436 1.79175947]\n",
      " [0.         1.09861229 1.60943791]]\n"
     ]
    }
   ],
   "source": [
    "import numpy as np\n",
    "\n",
    "var1 = np.array([(2,4,6) , (1,3,5)])\n",
    "var2 = np.array([(2,4,6) , (1,3,5)])\n",
    "\n",
    "# Funcion exponencial\n",
    "print(np.exp(var1))\n",
    "# Funcion logaritmica\n",
    "print(np.log(var1))\n",
    "\n",
    "\n",
    "\n"
   ]
  }
 ],
 "metadata": {
  "interpreter": {
   "hash": "d51a215cc65096706a43590ea460e9c208ca71999476c8bfac69a72aadeda6ee"
  },
  "kernelspec": {
   "display_name": "Python 3.9.7 ('base')",
   "language": "python",
   "name": "python3"
  },
  "language_info": {
   "codemirror_mode": {
    "name": "ipython",
    "version": 3
   },
   "file_extension": ".py",
   "mimetype": "text/x-python",
   "name": "python",
   "nbconvert_exporter": "python",
   "pygments_lexer": "ipython3",
   "version": "3.9.7"
  },
  "orig_nbformat": 4
 },
 "nbformat": 4,
 "nbformat_minor": 2
}
