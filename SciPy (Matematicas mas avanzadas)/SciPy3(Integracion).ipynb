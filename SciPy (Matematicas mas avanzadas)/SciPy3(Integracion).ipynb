{
 "cells": [
  {
   "cell_type": "code",
   "execution_count": 7,
   "metadata": {},
   "outputs": [],
   "source": [
    "import scipy as sp\n",
    "from scipy import integrate\n"
   ]
  },
  {
   "cell_type": "code",
   "execution_count": 8,
   "metadata": {},
   "outputs": [
    {
     "name": "stdout",
     "output_type": "stream",
     "text": [
      "(323.99999999999994, 3.5971225997855064e-12)\n"
     ]
    }
   ],
   "source": [
    "# Integracion 1 variable\n",
    "var1=lambda x: x**3\n",
    "function1=integrate.quad(var1,0,6)\n",
    "print(function1)"
   ]
  },
  {
   "cell_type": "code",
   "execution_count": 9,
   "metadata": {},
   "outputs": [
    {
     "name": "stdout",
     "output_type": "stream",
     "text": [
      "(3.5999999999999996, 3.996802888650563e-14)\n"
     ]
    }
   ],
   "source": [
    "# Integral doble , 2 variables\n",
    "var1=lambda y , x: x * y**4\n",
    "function1=integrate.dblquad(var1,0,6,lambda x:0 ,lambda x:1)\n",
    "print(function1)"
   ]
  }
 ],
 "metadata": {
  "interpreter": {
   "hash": "d51a215cc65096706a43590ea460e9c208ca71999476c8bfac69a72aadeda6ee"
  },
  "kernelspec": {
   "display_name": "Python 3.9.7 ('base')",
   "language": "python",
   "name": "python3"
  },
  "language_info": {
   "codemirror_mode": {
    "name": "ipython",
    "version": 3
   },
   "file_extension": ".py",
   "mimetype": "text/x-python",
   "name": "python",
   "nbconvert_exporter": "python",
   "pygments_lexer": "ipython3",
   "version": "3.9.7"
  },
  "orig_nbformat": 4
 },
 "nbformat": 4,
 "nbformat_minor": 2
}
