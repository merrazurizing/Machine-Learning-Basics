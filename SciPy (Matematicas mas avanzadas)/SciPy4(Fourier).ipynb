{
 "cells": [
  {
   "cell_type": "code",
   "execution_count": 19,
   "metadata": {},
   "outputs": [],
   "source": [
    "import scipy as sp\n",
    "import numpy as np\n",
    "from scipy.fft import fft, ifft"
   ]
  },
  {
   "cell_type": "code",
   "execution_count": 20,
   "metadata": {},
   "outputs": [
    {
     "name": "stdout",
     "output_type": "stream",
     "text": [
      "[ 4.5       -0.j          2.08155948-1.65109876j -1.83155948+1.60822041j\n",
      " -1.83155948-1.60822041j  2.08155948+1.65109876j]\n",
      "[ 1. +0.j  2. +0.j  1. +0.j -1. +0.j  1.5+0.j]\n"
     ]
    }
   ],
   "source": [
    "x = np.array([1.0, 2.0, 1.0, -1.0, 1.5])\n",
    "#transformada de Fourier\n",
    "y = fft(x)\n",
    "\n",
    "print(y)\n",
    "\n",
    "#Inversa\n",
    "yinv = ifft(y)\n",
    "print(yinv)"
   ]
  }
 ],
 "metadata": {
  "interpreter": {
   "hash": "d51a215cc65096706a43590ea460e9c208ca71999476c8bfac69a72aadeda6ee"
  },
  "kernelspec": {
   "display_name": "Python 3.9.7 ('base')",
   "language": "python",
   "name": "python3"
  },
  "language_info": {
   "codemirror_mode": {
    "name": "ipython",
    "version": 3
   },
   "file_extension": ".py",
   "mimetype": "text/x-python",
   "name": "python",
   "nbconvert_exporter": "python",
   "pygments_lexer": "ipython3",
   "version": "3.9.7"
  },
  "orig_nbformat": 4
 },
 "nbformat": 4,
 "nbformat_minor": 2
}
