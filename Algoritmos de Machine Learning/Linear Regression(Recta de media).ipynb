{
 "cells": [
  {
   "cell_type": "code",
   "execution_count": 30,
   "metadata": {},
   "outputs": [],
   "source": [
    "import numpy as np\n",
    "import matplotlib.pyplot as plt"
   ]
  },
  {
   "cell_type": "code",
   "execution_count": 31,
   "metadata": {},
   "outputs": [],
   "source": [
    "x= np.array([0,1,2,3,4,5,6,8,4,5,2,8,0,6,3,2,5])\n",
    "y= np.array([4,8,3,4,7,8,9,5,3,6,8,8,3,4,7,5,4])"
   ]
  },
  {
   "cell_type": "code",
   "execution_count": 32,
   "metadata": {},
   "outputs": [
    {
     "data": {
      "image/png": "[encoded data removed]",
      "text/plain": [
       "<Figure size 432x288 with 1 Axes>"
      ]
     },
     "metadata": {
      "needs_background": "light"
     },
     "output_type": "display_data"
    }
   ],
   "source": [
    "#funcion para calcular la pendiente del modelo de la regresion\n",
    "function=np.polyfit(x,y,1)\n",
    "\n",
    "# graficar con puntos\n",
    "plt.plot(x,y,\".\")\n",
    "\n",
    "#crea la linea de media\n",
    "plt.plot(x,np.polyval(function,x),'r-')\n",
    "plt.show()\n",
    "\n",
    "#Sirve para encontrar una correlacion de x y y"
   ]
  }
 ],
 "metadata": {
  "interpreter": {
   "hash": "d51a215cc65096706a43590ea460e9c208ca71999476c8bfac69a72aadeda6ee"
  },
  "kernelspec": {
   "display_name": "Python 3.9.7 ('base')",
   "language": "python",
   "name": "python3"
  },
  "language_info": {
   "codemirror_mode": {
    "name": "ipython",
    "version": 3
   },
   "file_extension": ".py",
   "mimetype": "text/x-python",
   "name": "python",
   "nbconvert_exporter": "python",
   "pygments_lexer": "ipython3",
   "version": "3.9.7"
  },
  "orig_nbformat": 4
 },
 "nbformat": 4,
 "nbformat_minor": 2
}
